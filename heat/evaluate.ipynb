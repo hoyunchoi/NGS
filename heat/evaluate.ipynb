{
 "cells": [
  {
   "cell_type": "code",
   "execution_count": 1,
   "metadata": {},
   "outputs": [],
   "source": [
    "import sys\n",
    "\n",
    "import pandas as pd\n",
    "import torch\n",
    "\n",
    "sys.path.append(\"..\")\n",
    "from heat.model import HeatModel\n",
    "from NGS.data import NGSDataset, preprocess\n",
    "from NGS.ema import EMA\n",
    "from NGS.experiment import rollout\n",
    "from NGS.hyperparameter import HyperParameter\n",
    "from path import DATA_DIR, RESULT_DIR\n",
    "\n",
    "device = torch.device(\"cuda\")\n",
    "file_names = [\"heat_train\", \"heat_test_int\", \"heat_test_ext\"]"
   ]
  },
  {
   "cell_type": "code",
   "execution_count": 2,
   "metadata": {},
   "outputs": [],
   "source": [
    "def evaluate(missing: float, noise: float) -> None:\n",
    "    exp_id = f\"heat_p{missing}_s{noise}\"\n",
    "    result_dir = RESULT_DIR / exp_id\n",
    "\n",
    "    # Check validity of result directory\n",
    "    hp = HyperParameter.from_yaml(result_dir / \"hyperparameter.yaml\")\n",
    "    assert hp.missing == missing\n",
    "    assert hp.noise == noise\n",
    "\n",
    "    # Load model\n",
    "    checkpoint = torch.load(result_dir / \"checkpoint.pth\", map_location=\"cpu\")\n",
    "    model = HeatModel(hp.emb_dim, hp.depth).to(device)\n",
    "    ema = EMA(model)\n",
    "    ema.load_state_dict(checkpoint[\"ema\"])\n",
    "\n",
    "    for file_name in file_names:\n",
    "        # Load data\n",
    "        data_df = pd.read_pickle(DATA_DIR / f\"{file_name}.pkl\")\n",
    "        _, test = preprocess(data_df)\n",
    "        dataset = NGSDataset(**test, window=-1)\n",
    "\n",
    "        # Rollout\n",
    "        with ema():\n",
    "            pred_trajectories, nfevs, runtimes = rollout(model, dataset, device)\n",
    "\n",
    "        # Save results\n",
    "        pd.DataFrame(\n",
    "            {\"trajectories\": pred_trajectories, \"runtime\": runtimes, \"nfev\": nfevs}\n",
    "        ).to_pickle(result_dir / f\"{file_name}.pkl\")"
   ]
  },
  {
   "cell_type": "code",
   "execution_count": 3,
   "metadata": {},
   "outputs": [],
   "source": [
    "evaluate(0.1, 0.001)"
   ]
  },
  {
   "cell_type": "code",
   "execution_count": null,
   "metadata": {},
   "outputs": [],
   "source": []
  }
 ],
 "metadata": {
  "kernelspec": {
   "display_name": "pde2",
   "language": "python",
   "name": "python3"
  },
  "language_info": {
   "codemirror_mode": {
    "name": "ipython",
    "version": 3
   },
   "file_extension": ".py",
   "mimetype": "text/x-python",
   "name": "python",
   "nbconvert_exporter": "python",
   "pygments_lexer": "ipython3",
   "version": "3.11.8"
  }
 },
 "nbformat": 4,
 "nbformat_minor": 2
}
