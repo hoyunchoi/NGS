{
 "cells": [
  {
   "cell_type": "code",
   "execution_count": 1,
   "metadata": {},
   "outputs": [],
   "source": [
    "import string\n",
    "import sys\n",
    "\n",
    "import numpy as np\n",
    "import pandas as pd\n",
    "\n",
    "sys.path.append(\"..\")\n",
    "from heat.model import HeatModel\n",
    "from NGS.data import NGSDataset, add_missing, add_noise, preprocess\n",
    "from NGS.experiment import run\n",
    "from NGS.hyperparameter import HyperParameter\n",
    "from path import DATA_DIR"
   ]
  },
  {
   "cell_type": "code",
   "execution_count": 2,
   "metadata": {},
   "outputs": [],
   "source": [
    "# Random experiment ID\n",
    "exp_id = \"\".join(np.random.choice(list(string.ascii_lowercase + string.digits), 8))\n",
    "\n",
    "hp = HyperParameter(\n",
    "    dataset=\"heat_train\",\n",
    "    seed=42,\n",
    "    missing=0.1,\n",
    "    noise=0.001,\n",
    "    depth=2,\n",
    "    emb_dim=8,\n",
    "    threshold=None,\n",
    "    device=\"cuda:0\",\n",
    "    epochs=1540,\n",
    "    batch_size=16,\n",
    ")"
   ]
  },
  {
   "cell_type": "code",
   "execution_count": 3,
   "metadata": {},
   "outputs": [],
   "source": [
    "df = pd.read_pickle(DATA_DIR / f\"{hp.dataset}.pkl\")\n",
    "train, val = preprocess(df, val_ratio=0.2)\n",
    "\n",
    "# Incomplete data\n",
    "rng = np.random.default_rng(hp.seed)\n",
    "seed_missing, seed_noise = rng.integers(42, size=(2,))\n",
    "add_missing(train, hp.missing, seed_missing)\n",
    "add_noise(train, hp.noise, seed_noise)\n",
    "\n",
    "# Dataset for train, validation, rollout validation\n",
    "train_dataset = NGSDataset(**train, window=1)\n",
    "val_dataset = NGSDataset(**val, window=1)\n",
    "rollout_dataset = NGSDataset(**val, window=-1)\n",
    "\n",
    "# Model\n",
    "model = HeatModel(hp.emb_dim, hp.depth)"
   ]
  },
  {
   "cell_type": "code",
   "execution_count": 4,
   "metadata": {},
   "outputs": [
    {
     "name": "stdout",
     "output_type": "stream",
     "text": [
      "Start running exp_id='temp'\n",
      "Best at epoch=0, train_mae=1.6186e-02, val_mae=1.6772e-02, rollout_mae=2.4842e-01\n",
      "Best at epoch=1, train_mae=1.1798e-02, val_mae=1.1159e-02, rollout_mae=6.4831e-02\n"
     ]
    },
    {
     "ename": "FileExistsError",
     "evalue": "[Errno 17] File exists: '/pds/pds11/hoyun/NGS/NGS_public/result/temp'",
     "output_type": "error",
     "traceback": [
      "\u001b[0;31m---------------------------------------------------------------------------\u001b[0m",
      "\u001b[0;31mFileExistsError\u001b[0m                           Traceback (most recent call last)",
      "Cell \u001b[0;32mIn[4], line 2\u001b[0m\n\u001b[1;32m      1\u001b[0m \u001b[38;5;28mprint\u001b[39m(\u001b[38;5;124mf\u001b[39m\u001b[38;5;124m\"\u001b[39m\u001b[38;5;124mStart running \u001b[39m\u001b[38;5;132;01m{\u001b[39;00mexp_id\u001b[38;5;132;01m=}\u001b[39;00m\u001b[38;5;124m\"\u001b[39m)\n\u001b[0;32m----> 2\u001b[0m \u001b[43mrun\u001b[49m\u001b[43m(\u001b[49m\u001b[43mexp_id\u001b[49m\u001b[43m,\u001b[49m\u001b[43m \u001b[49m\u001b[43mhp\u001b[49m\u001b[43m,\u001b[49m\u001b[43m \u001b[49m\u001b[43mmodel\u001b[49m\u001b[43m,\u001b[49m\u001b[43m \u001b[49m\u001b[43mtrain_dataset\u001b[49m\u001b[43m,\u001b[49m\u001b[43m \u001b[49m\u001b[43mval_dataset\u001b[49m\u001b[43m,\u001b[49m\u001b[43m \u001b[49m\u001b[43mrollout_dataset\u001b[49m\u001b[43m)\u001b[49m\n",
      "File \u001b[0;32m~/NGS/NGS_public/heat/../NGS/experiment.py:244\u001b[0m, in \u001b[0;36mrun\u001b[0;34m(exp_id, hp, model, train_dataset, val_dataset, rollout_dataset)\u001b[0m\n\u001b[1;32m    242\u001b[0m \u001b[38;5;66;03m# --------------- Finish training ---------------\u001b[39;00m\n\u001b[1;32m    243\u001b[0m result_dir \u001b[38;5;241m=\u001b[39m RESULT_DIR \u001b[38;5;241m/\u001b[39m exp_id\n\u001b[0;32m--> 244\u001b[0m \u001b[43mresult_dir\u001b[49m\u001b[38;5;241;43m.\u001b[39;49m\u001b[43mmkdir\u001b[49m\u001b[43m(\u001b[49m\u001b[43mparents\u001b[49m\u001b[38;5;241;43m=\u001b[39;49m\u001b[38;5;28;43;01mTrue\u001b[39;49;00m\u001b[43m)\u001b[49m\n\u001b[1;32m    246\u001b[0m \u001b[38;5;66;03m# Save hyperparameter\u001b[39;00m\n\u001b[1;32m    247\u001b[0m hp\u001b[38;5;241m.\u001b[39mto_yaml(result_dir \u001b[38;5;241m/\u001b[39m \u001b[38;5;124m\"\u001b[39m\u001b[38;5;124mhyperparameter.yaml\u001b[39m\u001b[38;5;124m\"\u001b[39m)\n",
      "File \u001b[0;32m~/miniconda3/envs/pde2/lib/python3.11/pathlib.py:1116\u001b[0m, in \u001b[0;36mPath.mkdir\u001b[0;34m(self, mode, parents, exist_ok)\u001b[0m\n\u001b[1;32m   1112\u001b[0m \u001b[38;5;250m\u001b[39m\u001b[38;5;124;03m\"\"\"\u001b[39;00m\n\u001b[1;32m   1113\u001b[0m \u001b[38;5;124;03mCreate a new directory at this given path.\u001b[39;00m\n\u001b[1;32m   1114\u001b[0m \u001b[38;5;124;03m\"\"\"\u001b[39;00m\n\u001b[1;32m   1115\u001b[0m \u001b[38;5;28;01mtry\u001b[39;00m:\n\u001b[0;32m-> 1116\u001b[0m     \u001b[43mos\u001b[49m\u001b[38;5;241;43m.\u001b[39;49m\u001b[43mmkdir\u001b[49m\u001b[43m(\u001b[49m\u001b[38;5;28;43mself\u001b[39;49m\u001b[43m,\u001b[49m\u001b[43m \u001b[49m\u001b[43mmode\u001b[49m\u001b[43m)\u001b[49m\n\u001b[1;32m   1117\u001b[0m \u001b[38;5;28;01mexcept\u001b[39;00m \u001b[38;5;167;01mFileNotFoundError\u001b[39;00m:\n\u001b[1;32m   1118\u001b[0m     \u001b[38;5;28;01mif\u001b[39;00m \u001b[38;5;129;01mnot\u001b[39;00m parents \u001b[38;5;129;01mor\u001b[39;00m \u001b[38;5;28mself\u001b[39m\u001b[38;5;241m.\u001b[39mparent \u001b[38;5;241m==\u001b[39m \u001b[38;5;28mself\u001b[39m:\n",
      "\u001b[0;31mFileExistsError\u001b[0m: [Errno 17] File exists: '/pds/pds11/hoyun/NGS/NGS_public/result/temp'"
     ]
    }
   ],
   "source": [
    "print(f\"Start running {exp_id=}\")\n",
    "run(exp_id, hp, model, train_dataset, val_dataset, rollout_dataset)"
   ]
  }
 ],
 "metadata": {
  "kernelspec": {
   "display_name": "pde2",
   "language": "python",
   "name": "python3"
  },
  "language_info": {
   "codemirror_mode": {
    "name": "ipython",
    "version": 3
   },
   "file_extension": ".py",
   "mimetype": "text/x-python",
   "name": "python",
   "nbconvert_exporter": "python",
   "pygments_lexer": "ipython3",
   "version": "3.11.8"
  }
 },
 "nbformat": 4,
 "nbformat_minor": 2
}
