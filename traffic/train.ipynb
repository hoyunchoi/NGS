{
 "cells": [
  {
   "cell_type": "code",
   "execution_count": 1,
   "metadata": {},
   "outputs": [],
   "source": [
    "import string\n",
    "import sys\n",
    "from typing import cast\n",
    "\n",
    "import numpy as np\n",
    "import pandas as pd\n",
    "\n",
    "sys.path.append(\"..\")\n",
    "from NGS.experiment import run\n",
    "from NGS.hyperparameter import HyperParameter\n",
    "from path import DATA_DIR\n",
    "from traffic.data import TrafficDataset, preprocess\n",
    "from traffic.model import TrafficModel"
   ]
  },
  {
   "cell_type": "code",
   "execution_count": 4,
   "metadata": {},
   "outputs": [],
   "source": [
    "# Random experiment ID\n",
    "exp_id = \"\".join(np.random.choice(list(string.ascii_lowercase + string.digits), 8))\n",
    "\n",
    "hp = HyperParameter(\n",
    "    dataset=\"PEMS-BAY\",\n",
    "    seed=42,\n",
    "    missing=0.0,\n",
    "    noise=0.0,\n",
    "    emb_dim=64,\n",
    "    depth=2,\n",
    "    dropout=0.2094187918314379,\n",
    "    threshold=None,\n",
    "    lr=1e-5,\n",
    "    lr_max=0.0007435313323598894,\n",
    "    period=50,\n",
    "    warmup=5,\n",
    "    lr_max_mult=0.6,\n",
    "    period_mult=1.5,\n",
    "    loss=\"mae\",\n",
    "    weight_decay=1e-2,\n",
    "    device=\"cuda:0\",\n",
    "    epochs=252,\n",
    "    batch_size=16,\n",
    ")"
   ]
  },
  {
   "cell_type": "code",
   "execution_count": 3,
   "metadata": {},
   "outputs": [],
   "source": [
    "df = cast(pd.DataFrame, pd.read_hdf(DATA_DIR / \"PEMS-BAY/pems-bay.h5\"))\n",
    "*_, adj = pd.read_pickle(DATA_DIR / \"PEMS-BAY/adj_mx_bay.pkl\")\n",
    "preprocessed = preprocess(df, adj)\n",
    "\n",
    "trajectory = preprocessed[\"trajectory\"]\n",
    "time_in_day = preprocessed[\"time_in_day\"]\n",
    "day_in_week = preprocessed[\"day_in_week\"]\n",
    "edge_indices = preprocessed[\"edge_index\"]\n",
    "edge_attrs = preprocessed[\"edge_attr\"]\n",
    "indicies_train = preprocessed[\"indicies_train\"]\n",
    "indicies_val = preprocessed[\"indicies_val\"]\n",
    "\n",
    "# Dataset for train, validation\n",
    "train_dataset = TrafficDataset(trajectory, time_in_day, day_in_week, indicies_train, edge_indices, edge_attrs)\n",
    "val_dataset = TrafficDataset(trajectory, time_in_day, day_in_week, indicies_val, edge_indices, edge_attrs)\n",
    "\n",
    "# Model\n",
    "num_nodes = trajectory.shape[1]\n",
    "model = TrafficModel(num_nodes, hp.emb_dim, hp.depth, hp.dropout)"
   ]
  },
  {
   "cell_type": "code",
   "execution_count": null,
   "metadata": {},
   "outputs": [],
   "source": [
    "print(f\"Start running {exp_id=}\")\n",
    "run(exp_id, hp, model, train_dataset, val_dataset)"
   ]
  },
  {
   "cell_type": "code",
   "execution_count": null,
   "metadata": {},
   "outputs": [],
   "source": []
  }
 ],
 "metadata": {
  "kernelspec": {
   "display_name": "pde2",
   "language": "python",
   "name": "python3"
  },
  "language_info": {
   "codemirror_mode": {
    "name": "ipython",
    "version": 3
   },
   "file_extension": ".py",
   "mimetype": "text/x-python",
   "name": "python",
   "nbconvert_exporter": "python",
   "pygments_lexer": "ipython3",
   "version": "3.11.8"
  }
 },
 "nbformat": 4,
 "nbformat_minor": 2
}
