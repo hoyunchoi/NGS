{
 "cells": [
  {
   "cell_type": "code",
   "execution_count": 1,
   "metadata": {},
   "outputs": [],
   "source": [
    "import sys\n",
    "\n",
    "import numpy as np\n",
    "import pandas as pd\n",
    "import torch\n",
    "\n",
    "sys.path.append(\"..\")\n",
    "from kuramoto.model import KuramotoModel\n",
    "from NGS.data import NGSDataset, preprocess\n",
    "from NGS.ema import EMA\n",
    "from NGS.experiment import rollout\n",
    "from NGS.hyperparameter import HyperParameter\n",
    "from path import DATA_DIR, RESULT_DIR\n",
    "\n",
    "device = torch.device(\"cuda\")"
   ]
  },
  {
   "cell_type": "code",
   "execution_count": 4,
   "metadata": {},
   "outputs": [],
   "source": [
    "def evaluate(threshold: int) -> None:\n",
    "    exp_id = f\"kuramoto_th{threshold}\"\n",
    "    result_dir = RESULT_DIR / exp_id\n",
    "\n",
    "    # Check validity of result directory\n",
    "    hp = HyperParameter.from_yaml(result_dir / \"hyperparameter.yaml\")\n",
    "    assert hp.threshold is not None\n",
    "    assert hp.threshold is not None\n",
    "    if threshold == 2:\n",
    "        assert hp.threshold == 2.0\n",
    "    else:\n",
    "        assert np.isclose(hp.threshold, np.pi / threshold)\n",
    "\n",
    "    # Load model\n",
    "    checkpoint = torch.load(result_dir / \"checkpoint.pth\", map_location=\"cpu\")\n",
    "    model = KuramotoModel(hp.emb_dim, hp.depth, hp.dropout).to(device)\n",
    "    model.threshold = np.pi / threshold if threshold != 2 else 2.0\n",
    "    ema = EMA(model)\n",
    "    ema.load_state_dict(checkpoint[\"ema\"])\n",
    "\n",
    "    # Load data\n",
    "    data_df = pd.read_pickle(DATA_DIR / \"kuramoto_train.pkl\")\n",
    "    _, test = preprocess(data_df)\n",
    "    dataset = NGSDataset(**test, window=-1)\n",
    "\n",
    "    # Rollout\n",
    "    with ema():\n",
    "        pred_trajectories, nfevs, runtimes = rollout(model, dataset, device)\n",
    "\n",
    "    # Save results\n",
    "    pd.DataFrame(\n",
    "        {\"trajectories\": pred_trajectories, \"runtime\": runtimes, \"nfev\": nfevs}\n",
    "    ).to_pickle(result_dir / \"kuramoto_train2.pkl\")"
   ]
  },
  {
   "cell_type": "code",
   "execution_count": 5,
   "metadata": {},
   "outputs": [],
   "source": [
    "evaluate(6)"
   ]
  }
 ],
 "metadata": {
  "kernelspec": {
   "display_name": "pde2",
   "language": "python",
   "name": "python3"
  },
  "language_info": {
   "codemirror_mode": {
    "name": "ipython",
    "version": 3
   },
   "file_extension": ".py",
   "mimetype": "text/x-python",
   "name": "python",
   "nbconvert_exporter": "python",
   "pygments_lexer": "ipython3",
   "version": "3.11.8"
  }
 },
 "nbformat": 4,
 "nbformat_minor": 2
}
