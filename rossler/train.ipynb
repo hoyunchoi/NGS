{
 "cells": [
  {
   "cell_type": "code",
   "execution_count": 1,
   "metadata": {},
   "outputs": [],
   "source": [
    "import string\n",
    "import sys\n",
    "\n",
    "import numpy as np\n",
    "import pandas as pd\n",
    "\n",
    "sys.path.append(\"..\")\n",
    "from NGS.data import NGSDataset, add_missing, add_noise, preprocess\n",
    "from NGS.experiment import run\n",
    "from NGS.hyperparameter import HyperParameter\n",
    "from path import DATA_DIR\n",
    "from rossler.model import RosslerModel"
   ]
  },
  {
   "cell_type": "code",
   "execution_count": 2,
   "metadata": {},
   "outputs": [],
   "source": [
    "# Random experiment ID\n",
    "exp_id = \"\".join(np.random.choice(list(string.ascii_lowercase + string.digits), 8))\n",
    "\n",
    "hp = HyperParameter(\n",
    "    dataset=\"rossler_train\",\n",
    "    seed=42,\n",
    "    missing=0.1,\n",
    "    noise=0.001,\n",
    "    emb_dim=32,\n",
    "    depth=2,\n",
    "    dropout=0.0,\n",
    "    threshold=None,\n",
    "    device=\"cuda:0\",\n",
    "    epochs=1540,\n",
    "    batch_size=16,\n",
    ")"
   ]
  },
  {
   "cell_type": "code",
   "execution_count": 3,
   "metadata": {},
   "outputs": [],
   "source": [
    "df = pd.read_pickle(DATA_DIR / f\"{hp.dataset}.pkl\")\n",
    "train, val = preprocess(df, val_ratio=0.2)\n",
    "\n",
    "# Incomplete data\n",
    "rng = np.random.default_rng(hp.seed)\n",
    "seed_missing, seed_noise = rng.integers(42, size=(2,))\n",
    "add_missing(train, hp.missing, seed_missing)\n",
    "add_noise(train, hp.noise, seed_noise)\n",
    "\n",
    "# Dataset for train, validation, rollout validation\n",
    "train_dataset = NGSDataset(**train, window=1)\n",
    "val_dataset = NGSDataset(**val, window=1)\n",
    "rollout_dataset = NGSDataset(**val, window=-1)\n",
    "\n",
    "# Model\n",
    "model = RosslerModel(hp.emb_dim, hp.depth, hp.dropout)"
   ]
  },
  {
   "cell_type": "code",
   "execution_count": null,
   "metadata": {},
   "outputs": [],
   "source": [
    "print(f\"Start running {exp_id=}\")\n",
    "run(exp_id, hp, model, train_dataset, val_dataset, rollout_dataset)"
   ]
  },
  {
   "cell_type": "code",
   "execution_count": null,
   "metadata": {},
   "outputs": [],
   "source": []
  }
 ],
 "metadata": {
  "kernelspec": {
   "display_name": "pde2",
   "language": "python",
   "name": "python3"
  },
  "language_info": {
   "codemirror_mode": {
    "name": "ipython",
    "version": 3
   },
   "file_extension": ".py",
   "mimetype": "text/x-python",
   "name": "python",
   "nbconvert_exporter": "python",
   "pygments_lexer": "ipython3",
   "version": "3.11.8"
  }
 },
 "nbformat": 4,
 "nbformat_minor": 2
}
